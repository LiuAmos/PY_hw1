{
 "cells": [
  {
   "cell_type": "code",
   "execution_count": 2,
   "metadata": {
    "scrolled": true
   },
   "outputs": [],
   "source": [
    "Data_List = []\n",
    "file = open('PracticePython.txt','r')\n",
    "the_list = file.readlines()\n",
    "for a_line in the_list :\n",
    "        a_line = a_line.replace('\\n','')\n",
    "        a_line = a_line.split(',')\n",
    "        Data_List.append(a_line)\n",
    "file.close()\n",
    "#Data_List"
   ]
  },
  {
   "cell_type": "code",
   "execution_count": 3,
   "metadata": {},
   "outputs": [
    {
     "data": {
      "text/plain": [
       "{'Aaron': {'birthday': '19940723', 'hobby': ['music', 'sport']},\n",
       " 'Benjamin': {'birthday': '19960518', 'hobby': ['reading', 'music']},\n",
       " 'Christ': {'birthday': '19630731', 'hobby': ['sport', 'reading']},\n",
       " 'David': {'birthday': '19580624', 'hobby': ['sport', 'musci']},\n",
       " 'Edward': {'birthday': '19990211', 'hobby': ['music', 'sport']}}"
      ]
     },
     "execution_count": 3,
     "metadata": {},
     "output_type": "execute_result"
    }
   ],
   "source": [
    "name_dict = dict()\n",
    "name_dict.update({Data_List[0][0]:{'birthday':Data_List[0][1],'hobby':[Data_List[0][2],Data_List[0][3]]}})\n",
    "name_dict.update({Data_List[1][0]:{'birthday':Data_List[1][1],'hobby':[Data_List[1][2],Data_List[1][3]]}})\n",
    "name_dict.update({Data_List[2][0]:{'birthday':Data_List[2][1],'hobby':[Data_List[2][2],Data_List[2][3]]}})\n",
    "name_dict.update({Data_List[3][0]:{'birthday':Data_List[3][1],'hobby':[Data_List[3][2],Data_List[3][3]]}})\n",
    "name_dict.update({Data_List[4][0]:{'birthday':Data_List[4][1],'hobby':[Data_List[4][2],Data_List[4][3]]}})\n",
    "name_dict"
   ]
  },
  {
   "cell_type": "code",
   "execution_count": 4,
   "metadata": {},
   "outputs": [
    {
     "data": {
      "text/plain": [
       "{'birthday': '19940723', 'hobby': ['music', 'sport']}"
      ]
     },
     "execution_count": 4,
     "metadata": {},
     "output_type": "execute_result"
    }
   ],
   "source": [
    "name_dict['Aaron']\n",
    "#name_dict['David']['birthday']"
   ]
  },
  {
   "cell_type": "code",
   "execution_count": null,
   "metadata": {},
   "outputs": [],
   "source": [
    "import class"
   ]
  }
 ],
 "metadata": {
  "kernelspec": {
   "display_name": "Python 3",
   "language": "python",
   "name": "python3"
  },
  "language_info": {
   "codemirror_mode": {
    "name": "ipython",
    "version": 3
   },
   "file_extension": ".py",
   "mimetype": "text/x-python",
   "name": "python",
   "nbconvert_exporter": "python",
   "pygments_lexer": "ipython3",
   "version": "3.7.0"
  }
 },
 "nbformat": 4,
 "nbformat_minor": 2
}
