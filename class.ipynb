{
 "cells": [
  {
   "cell_type": "code",
   "execution_count": 4,
   "metadata": {},
   "outputs": [
    {
     "name": "stdout",
     "output_type": "stream",
     "text": [
      "name: tony\n",
      "birthday: 860521\n",
      "hobbit: movie\n",
      "apple\n"
     ]
    }
   ],
   "source": [
    "class people():\n",
    "    \n",
    "    def __init__(self,n,b,h):\n",
    "        self.name = n\n",
    "        self.birthday = b\n",
    "        self.hobbit=h\n",
    "        \n",
    "    def print_data(self,c):\n",
    "        print('name:',self.name)\n",
    "        print('birthday:',self.birthday)\n",
    "        print('hobbit:',self.hobbit)\n",
    "        print(c)\n",
    "        #return self.name,self.birthday,self.hobbit\n",
    "\n",
    "if __name__ == \"__main__\":\n",
    "    the_people  = people('tony','860521','movie')\n",
    "    the_people.name\n",
    "    the_people.birthday\n",
    "    the_people.print_data('apple')\n",
    "#print('name:',the_people.print_data()[0])\n",
    "#print('birthday:',the_people.print_data()[1])\n",
    "#print('hobbit:',the_people.print_data()[2])\n"
   ]
  },
  {
   "cell_type": "code",
   "execution_count": 19,
   "metadata": {},
   "outputs": [
    {
     "ename": "AttributeError",
     "evalue": "'people' object has no attribute 'print_data'",
     "output_type": "error",
     "traceback": [
      "\u001b[1;31m----------------------------\u001b[0m",
      "\u001b[1;31mAttributeError\u001b[0mTraceback (most recent call last)",
      "\u001b[1;32m<ipython-input-19-0af2d927768c>\u001b[0m in \u001b[0;36m<module>\u001b[1;34m()\u001b[0m\n\u001b[0;32m      2\u001b[0m \u001b[1;31m#the_people.name\u001b[0m\u001b[1;33m\u001b[0m\u001b[1;33m\u001b[0m\u001b[0m\n\u001b[0;32m      3\u001b[0m \u001b[1;31m#the_people.birthday\u001b[0m\u001b[1;33m\u001b[0m\u001b[1;33m\u001b[0m\u001b[0m\n\u001b[1;32m----> 4\u001b[1;33m \u001b[0mprint\u001b[0m\u001b[1;33m(\u001b[0m\u001b[0mthe_people\u001b[0m\u001b[1;33m.\u001b[0m\u001b[0mprint_data\u001b[0m\u001b[1;33m(\u001b[0m\u001b[1;33m)\u001b[0m\u001b[1;33m)\u001b[0m\u001b[1;33m\u001b[0m\u001b[0m\n\u001b[0m",
      "\u001b[1;31mAttributeError\u001b[0m: 'people' object has no attribute 'print_data'"
     ]
    }
   ],
   "source": [
    "\n",
    "\n"
   ]
  },
  {
   "cell_type": "code",
   "execution_count": null,
   "metadata": {},
   "outputs": [],
   "source": []
  },
  {
   "cell_type": "code",
   "execution_count": null,
   "metadata": {},
   "outputs": [],
   "source": []
  },
  {
   "cell_type": "code",
   "execution_count": null,
   "metadata": {},
   "outputs": [],
   "source": []
  },
  {
   "cell_type": "code",
   "execution_count": null,
   "metadata": {},
   "outputs": [],
   "source": []
  }
 ],
 "metadata": {
  "kernelspec": {
   "display_name": "Python 3",
   "language": "python",
   "name": "python3"
  },
  "language_info": {
   "codemirror_mode": {
    "name": "ipython",
    "version": 3
   },
   "file_extension": ".py",
   "mimetype": "text/x-python",
   "name": "python",
   "nbconvert_exporter": "python",
   "pygments_lexer": "ipython3",
   "version": "3.7.0"
  }
 },
 "nbformat": 4,
 "nbformat_minor": 2
}
